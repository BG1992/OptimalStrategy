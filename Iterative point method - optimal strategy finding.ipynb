{
 "cells": [
  {
   "cell_type": "markdown",
   "metadata": {},
   "source": [
    "### Iterative point method used to find the optimal strategy in some probabilistic game"
   ]
  },
  {
   "cell_type": "markdown",
   "metadata": {},
   "source": [
    "The problem is inspired by some Project Euler problem (not pointed out which exactly, to avoid spoilers :))."
   ]
  },
  {
   "cell_type": "markdown",
   "metadata": {},
   "source": [
    "Let us assume we are taking part in the following game:"
   ]
  },
  {
   "cell_type": "markdown",
   "metadata": {},
   "source": [
    "$2N$ cards, labelled from $1$ to $2N$ are placed on the table, faced up.\n",
    "\n",
    "A turn in this game consists in rolling two $N$-sided, fair dices - with numbers from $1$ to $N$ on each dice.\n",
    "\n",
    "Assuming dices showed $x$ and $y$ numbers, you are to choose one of three possible moves:\n",
    "    \n",
    "1) to turn over the card $x$;\n",
    "\n",
    "2) to turn over the card $y$;\n",
    "\n",
    "3) to turn over the card $x+y$.\n",
    "\n",
    "Note that $x$ may be equal to $y$. Turning over a card consists in turning the card to faced up, being already faced down and vice versa.\n",
    "\n",
    "The procedure is repeated till you manage to have all $2N$ cards faced down at the same time - then you win.\n",
    "\n",
    "Compute the expected number of moves that need to be done to win this game, assuming that you always follow the optimal strategy - in terms of minimizing a number of moves. Give your number rounded to $6$ decimal places."
   ]
  },
  {
   "cell_type": "markdown",
   "metadata": {},
   "source": [
    "#### Solution"
   ]
  },
  {
   "cell_type": "markdown",
   "metadata": {},
   "source": [
    "Let us start from some simple notation. Given $2N$ cards, we can express any state of cards faced up/down as some non-negative integer, in the binary system. \n",
    "\n",
    "For instance, suppose $N=2$ and we want to express state with cards $1$ and $2$ faced down, and $3$ and $4$ faced up. If we denote cards being faced down by ones, and faced up by zeros, we will get: $0011_b=3$. Basically, state of a $n$-th card is specified by the $n$-th bit from the right in our number ($1$ is faced up, $0$ is faced down)."
   ]
  },
  {
   "cell_type": "markdown",
   "metadata": {},
   "source": [
    "Some words now on making a move. Being in a state $s$, if we want to turn over a card $x$, we need to simply make a **xor** operation $s \\wedge 2^{x-1}$. What does it mean? How does it work?"
   ]
  },
  {
   "cell_type": "markdown",
   "metadata": {},
   "source": [
    "Suppose our state $s$ is equal to $0011_b = 3$, what means we have cards $1$ and $2$ faced down, and cards $3$ and $4$ faced up. If we want to turn over card $4$, our further state would be $1011_b = 11$."
   ]
  },
  {
   "cell_type": "code",
   "execution_count": 2,
   "metadata": {},
   "outputs": [
    {
     "name": "stdout",
     "output_type": "stream",
     "text": [
      "11\n"
     ]
    }
   ],
   "source": [
    "#this is equivalent to Python xor operation:\n",
    "print(3 ^ 8) #8 = pow(2,3)"
   ]
  },
  {
   "cell_type": "markdown",
   "metadata": {},
   "source": [
    "The same holds if we want to make a card faced up, being already faced down. Suppose our state is again equal to $0011_b=3$ and we want to turn over the card $1$. Our further state would be $0010_b = 2$."
   ]
  },
  {
   "cell_type": "code",
   "execution_count": 4,
   "metadata": {},
   "outputs": [
    {
     "name": "stdout",
     "output_type": "stream",
     "text": [
      "2\n"
     ]
    }
   ],
   "source": [
    "print(3 ^ 1) #1 = pow(2,0)"
   ]
  },
  {
   "cell_type": "markdown",
   "metadata": {},
   "source": [
    "Of course, each state has a unique representation. From now on, we will use the binary notation while describing given states. So, talking about the state $1,2$ cards faced down, $3,4$ cards faced up, we will simply say state $3$."
   ]
  },
  {
   "cell_type": "markdown",
   "metadata": {},
   "source": [
    "Therefore, we can create the system of equations which solution will provide us with the answer."
   ]
  },
  {
   "cell_type": "markdown",
   "metadata": {},
   "source": [
    "Let $t_n$ denotes the expected number of moves to achieve the final state $2^{2N}-1$, (the absorbing one, in terms of the Markov chains), assuming we always follow the optimal strategy."
   ]
  },
  {
   "cell_type": "markdown",
   "metadata": {},
   "source": [
    "Then, the following system of equations must be satisfied:"
   ]
  },
  {
   "cell_type": "markdown",
   "metadata": {},
   "source": [
    "$t_0 = 1 + \\frac{1}{N^2} (\\sum_{(x,y) \\in R} min \\{t_{0 \\wedge 2^{x-1}}, t_{0 \\wedge 2^{y-1}}, t_{0 \\wedge 2^{x+y-1}} \\})$;\n",
    "\n",
    "$t_1 = 1 + \\frac{1}{N^2} (\\sum_{(x,y) \\in R} min \\{t_{1 \\wedge 2^{x-1}}, t_{1 \\wedge 2^{y-1}}, t_{1 \\wedge 2^{x+y-1}} \\})$;\n",
    "\n",
    "$\\ldots$\n",
    "\n",
    "$t_{2^{2N}-2} = 1 + \\frac{1}{N^2} (\\sum_{(x,y) \\in R} min \\{t_{(2^{2N}-2) \\wedge 2^{x-1}}, t_{(2^{2N}-2) \\wedge 2^{y-1}}, t_{(2^{2N}-2) \\wedge 2^{x+y-1}} \\})$;\n",
    "\n",
    "$t_{2^{2N}-1} = 0$."
   ]
  },
  {
   "cell_type": "markdown",
   "metadata": {},
   "source": [
    "Some comments:\n",
    "    \n",
    "$R$ denotes the rolls space. For $N=2$ that would be the set $\\{(1,1),(1,2),(2,1),(2,2)\\}$.\n",
    "\n",
    "For the final state $2^{2N}-1$ the expected value is of course equal to $0$ - since we do not do any other moves.\n",
    "\n",
    "For some other state $s$, we have $N^2$ possible rolls (that's why we have $\\frac{1}{N^2}$, they are equally probable). For each roll in this state, we have at most three possible options - to choose one state from the set $\\{t_{s \\wedge 2^{x-1}}, t_{s \\wedge 2^{y-1}}, t_{s \\wedge 2^{x+y-1}}\\}$.\n",
    "\n",
    "We want to choose the option which leads to the state with the lowest expected number of moves to win - that's why we have $min \\{t_{s \\wedge 2^{x-1}}, t_{s \\wedge 2^{y-1}}, t_{s \\wedge 2^{x+y-1}}\\}$.\n",
    "\n",
    "While moving from a state $s$ to some state $s'$ (with some probability and decision), the expected number of moves to win for the state $s$ is equal to the expected number of moves to win for the state $s'$ plus one - since we need to do one move to reach the state $s'$."
   ]
  },
  {
   "cell_type": "markdown",
   "metadata": {},
   "source": [
    "We can express this system of equations in terms of function $f : \\mathbb{R}^{2^{2N}} \\rightarrow \\mathbb{R}^{2^{2N}}$, defined below:"
   ]
  },
  {
   "cell_type": "markdown",
   "metadata": {},
   "source": [
    "\\begin{align}\n",
    "f(t_0, t_1, \\ldots, t_{2^{2N}-1}) = (&1 + \\frac{1}{N^2} (\\sum_{(x,y) \\in R} min \\{t_{0 \\wedge 2^{x-1}}, t_{0 \\wedge 2^{y-1}}, t_{0 \\wedge 2^{x+y-1}} \\}), \\\\ &1 + \\frac{1}{N^2} (\\sum_{(x,y) \\in R} min \\{t_{1 \\wedge 2^{x-1}}, t_{1 \\wedge 2^{y-1}}, t_{1 \\wedge 2^{x+y-1}} \\}), \\\\ &\\ldots, \\\\ &1 + \\frac{1}{N^2} (\\sum_{(x,y) \\in R} min \\{t_{(2^{2N}-2) \\wedge 2^{x-1}}, t_{(2^{2N}-2) \\wedge 2^{y-1}}, t_{(2^{2N}-2) \\wedge 2^{x+y-1}} \\}), \\\\ &0).\n",
    "\\end{align}"
   ]
  },
  {
   "cell_type": "markdown",
   "metadata": {},
   "source": [
    "This equation will be solved using the iterative point method. Starting from some arbitrary point $\\hat{t} = (\\hat{t}_{0}, \\hat{t}_{1}, \\ldots, \\hat{t}_{2^{2N}-2}, \\hat{t}_{2^{2N}-1})$, we are looking for the solution, creating iterations $\\hat{t}, f(\\hat{t}), f(f(\\hat{t})), \\ldots$, till some tolerance condition is satisfied.\n",
    "\n",
    "Suppose $\\hat{t} = (M, M, \\ldots, M)$, where $M=10$. Let us compute the expected value for $N=5$."
   ]
  },
  {
   "cell_type": "code",
   "execution_count": 7,
   "metadata": {},
   "outputs": [
    {
     "name": "stdout",
     "output_type": "stream",
     "text": [
      "0 10240\n",
      "100 24242.43966167763\n",
      "200 24387.367262398937\n",
      "300 24389.807502622574\n",
      "400 24389.848669104606\n",
      "500 24389.84936359602\n",
      "569 iterations needed.\n",
      "Result: 34.69856\n",
      "Runtime: 19.13 s.\n"
     ]
    }
   ],
   "source": [
    "from time import perf_counter\n",
    "\n",
    "#Initial settings.\n",
    "st = perf_counter()\n",
    "M = 10\n",
    "N = 5\n",
    "t = [M]*pow(2,2*N)\n",
    "tolerance = pow(10,-10)\n",
    "\n",
    "#Filling out the rolls space.\n",
    "rolls = []\n",
    "for x in range(1, N+1):\n",
    "    for y in range(1, N+1):\n",
    "        rolls.append((x,y))\n",
    "\n",
    "#Function checking whether to terminate the iteration process.\n",
    "#It is terminated if the absolute value of the difference \n",
    "#between the current and previous expected value for each state is smaller than the predefined tolerance.\n",
    "def is_terminated(t, new_t):\n",
    "    for i in range(len(t)):\n",
    "        if abs(t[i] - new_t[i]) > tolerance:\n",
    "            return False\n",
    "    return True\n",
    "\n",
    "#Function f - defined as above in the notebook.\n",
    "def f(t):\n",
    "    new_t = []\n",
    "    for i in range(len(t)-1):\n",
    "        sm = 0\n",
    "        for roll in rolls:\n",
    "            x, y = roll\n",
    "            sm += min(t[i ^ pow(2,x-1)], t[i ^ pow(2,y-1)], t[i ^ pow(2,x+y-1)])\n",
    "        sm /= pow(N,2)\n",
    "        new_t.append(1+sm)\n",
    "    new_t.append(0)\n",
    "    return new_t\n",
    "\n",
    "#Iterating process, finished once is_terminated returns True.\n",
    "ind = 0\n",
    "while 1:\n",
    "    new_t = f(t)\n",
    "    if is_terminated(t, new_t): break\n",
    "    if ind % 100 == 0: print(ind, sum(t))\n",
    "    t = new_t\n",
    "    ind += 1\n",
    "\n",
    "print(ind, 'iterations needed.')\n",
    "print('Result:', round(t[0],6))\n",
    "print('Runtime:', round(perf_counter()-st, 2), 's.')"
   ]
  }
 ],
 "metadata": {
  "kernelspec": {
   "display_name": "Python 3",
   "language": "python",
   "name": "python3"
  },
  "language_info": {
   "codemirror_mode": {
    "name": "ipython",
    "version": 3
   },
   "file_extension": ".py",
   "mimetype": "text/x-python",
   "name": "python",
   "nbconvert_exporter": "python",
   "pygments_lexer": "ipython3",
   "version": "3.8.1"
  }
 },
 "nbformat": 4,
 "nbformat_minor": 4
}
